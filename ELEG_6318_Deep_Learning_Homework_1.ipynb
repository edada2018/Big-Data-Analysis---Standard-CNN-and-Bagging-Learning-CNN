{
  "nbformat": 4,
  "nbformat_minor": 0,
  "metadata": {
    "colab": {
      "provenance": [],
      "authorship_tag": "ABX9TyMlnHBIyuchp+rYoAXdAuvd",
      "include_colab_link": true
    },
    "kernelspec": {
      "name": "python3",
      "display_name": "Python 3"
    },
    "language_info": {
      "name": "python"
    }
  },
  "cells": [
    {
      "cell_type": "markdown",
      "metadata": {
        "id": "view-in-github",
        "colab_type": "text"
      },
      "source": [
        "<a href=\"https://colab.research.google.com/github/edada2018/Big-Data-Analysis---Standard-CNN-and-Bagging-Learning-CNN/blob/main/ELEG_6318_Deep_Learning_Homework_1.ipynb\" target=\"_parent\"><img src=\"https://colab.research.google.com/assets/colab-badge.svg\" alt=\"Open In Colab\"/></a>"
      ]
    },
    {
      "cell_type": "markdown",
      "source": [
        "#** ELEG 6318 Deep Learning Homework-1 - Spring 2025.:\n",
        "** ELizabeth Dada - P21852546**\n",
        "\n",
        "** TiTle: \"Performing Comparison and Analysis on Perceptron with Different\n",
        " Activation Function and Loss Function\".\n"
      ],
      "metadata": {
        "id": "7sImzheIhPkN"
      }
    },
    {
      "cell_type": "markdown",
      "source": [
        "** Step 1: Import Required Libraries"
      ],
      "metadata": {
        "id": "0dHAKEd7O26t"
      }
    },
    {
      "cell_type": "code",
      "source": [
        "# Step 1: Import Required Libraries\n",
        "import numpy as np\n",
        "import h5py\n",
        "import matplotlib.pyplot as plt\n",
        "from sklearn.metrics import accuracy_score, precision_score, recall_score, f1_score\n",
        "from google.colab import drive\n",
        "import os\n",
        "\n"
      ],
      "metadata": {
        "id": "f7uE4npnRWAW"
      },
      "execution_count": null,
      "outputs": []
    },
    {
      "cell_type": "code",
      "execution_count": null,
      "metadata": {
        "colab": {
          "base_uri": "https://localhost:8080/"
        },
        "id": "5y2gtoIqRIIi",
        "outputId": "7ad2436f-a4f8-4fcf-add7-ef5bfcdec560"
      },
      "outputs": [
        {
          "output_type": "stream",
          "name": "stdout",
          "text": [
            "Drive already mounted at /content/drive; to attempt to forcibly remount, call drive.mount(\"/content/drive\", force_remount=True).\n"
          ]
        }
      ],
      "source": [
        "# Load Dataset from Google Drive\n",
        "drive.mount('/content/drive')\n"
      ]
    },
    {
      "cell_type": "code",
      "source": [
        "# Set Dataset Path\n",
        "dataset_path = \"/content/drive/My Drive/train_catvnoncat.h5\"\n",
        "test_dataset_path = \"/content/drive/My Drive/test_catvnoncat.h5\"\n"
      ],
      "metadata": {
        "id": "1e0pG635Rn0n"
      },
      "execution_count": null,
      "outputs": []
    },
    {
      "cell_type": "markdown",
      "source": [
        "** Step 2: Load and Normalize the Dataset"
      ],
      "metadata": {
        "id": "q27gItJi7l5g"
      }
    },
    {
      "cell_type": "code",
      "source": [
        "# Step 2: Load and Normalize the Datase\n",
        "# Function to load dataset\n",
        "def load_dataset():\n",
        "    import h5py  # Ensure h5py is installed\n",
        "    dataset = h5py.File(\"/content/drive/My Drive/train_catvnoncat.h5\", \"r\")\n",
        "    X_train = np.array(dataset[\"train_set_x\"][:])  # Extract images\n",
        "    Y_train = np.array(dataset[\"train_set_y\"][:]).reshape(1, -1)  # Extract labels\n",
        "\n",
        "    dataset = h5py.File(\"/content/drive/My Drive/test_catvnoncat.h5\", \"r\")\n",
        "    X_test = np.array(dataset[\"test_set_x\"][:])  # Extract images\n",
        "    Y_test = np.array(dataset[\"test_set_y\"][:]).reshape(1, -1)  # Extract labels\n",
        "    return X_train, Y_train, X_test, Y_test\n",
        "\n",
        "# Load dataset\n",
        "X_train, Y_train, X_test, Y_test = load_dataset()\n",
        "\n",
        "# Normalize dataset\n",
        "X_train = X_train / 255.0\n",
        "X_test = X_test / 255.0\n",
        "\n",
        "# Flatten images into feature vectors\n",
        "X_train = X_train.reshape(X_train.shape[0], -1).T\n",
        "X_test = X_test.reshape(X_test.shape[0], -1).T\n"
      ],
      "metadata": {
        "id": "hshBgcsFMyHA"
      },
      "execution_count": null,
      "outputs": []
    },
    {
      "cell_type": "markdown",
      "source": [
        "** step 3: Initialize Parameters"
      ],
      "metadata": {
        "id": "sK-oTYpVf4m5"
      }
    },
    {
      "cell_type": "code",
      "source": [
        "# step 3: Initialize Parameters\n",
        "def initialize_parameters(dim):\n",
        "    w = np.zeros((dim, 1))  # Initialize weights as zeros\n",
        "    b = 0  # Initialize bias as zero\n",
        "    return w, b\n",
        "\n"
      ],
      "metadata": {
        "id": "lEHVJb_tPWWf"
      },
      "execution_count": null,
      "outputs": []
    },
    {
      "cell_type": "markdown",
      "source": [
        "** Step 4: Define Activation Function (Sigmoid)**"
      ],
      "metadata": {
        "id": "4QsPBq8hgM0u"
      }
    },
    {
      "cell_type": "code",
      "source": [
        "# Step 4: Define Activation Function (Sigmoid)\n",
        "\n",
        "def sigmoid(z):\n",
        "    return 1 / (1 + np.exp(-z))\n"
      ],
      "metadata": {
        "id": "6U0vGTAoPgd_"
      },
      "execution_count": null,
      "outputs": []
    },
    {
      "cell_type": "markdown",
      "source": [
        "** Step 5: Define Forward Propagation (Group 1 and Group 2) **"
      ],
      "metadata": {
        "id": "3KcnZ2qwgZGd"
      }
    },
    {
      "cell_type": "code",
      "source": [
        "# Step 5: Define Forward Propagation (Group 1 and Group 2)\n",
        "\n",
        "# Forward propagation for Group 1\n",
        "def forward_propagation_group1(w, b, X):\n",
        "    Z = np.dot(w.T, X) * 5 + 3 * b  # Group 1 formula\n",
        "    A = sigmoid(Z)\n",
        "    return A\n",
        "\n",
        "# Forward propagation for Group 2\n",
        "def forward_propagation_group2(w, b, X):\n",
        "    Z = np.dot(w.T, X) + b  # Group 2 formula\n",
        "    A = sigmoid(Z)\n",
        "    return A\n"
      ],
      "metadata": {
        "id": "q34AdNW8Pv4-"
      },
      "execution_count": null,
      "outputs": []
    },
    {
      "cell_type": "markdown",
      "source": [
        "** Step 6: Define Loss Function**"
      ],
      "metadata": {
        "id": "Y62fIyD4gev-"
      }
    },
    {
      "cell_type": "code",
      "source": [
        "# Step 6: Define Loss Function\n",
        "# Compute loss function\n",
        "def compute_loss(Y, A):\n",
        "    m = Y.shape[1]\n",
        "    loss = (1 / (2 * m)) * np.sum((Y - A) ** 2)  # Squared error loss\n",
        "    return loss\n"
      ],
      "metadata": {
        "id": "lj1ErVazQSgA"
      },
      "execution_count": null,
      "outputs": []
    },
    {
      "cell_type": "markdown",
      "source": [
        "** Step 7: Define Backward Propagation (with L2 Regularization)**"
      ],
      "metadata": {
        "id": "vUwdTBDzgoOc"
      }
    },
    {
      "cell_type": "code",
      "source": [
        "# Step 7: Define Backward Propagation (with L2 Regularization)\n",
        "\n",
        "# Backward propagation for Group 1\n",
        "def backward_propagation_group1(X, Y, A, w, lambda_reg=0.01):\n",
        "    m = X.shape[1]\n",
        "    dZ = (A - Y) * A * (1 - A)\n",
        "    dw = (1 / m) * np.dot(X, dZ.T) + (lambda_reg / m) * w  # L2 Regularization\n",
        "    db = (1 / m) * np.sum(dZ)\n",
        "    return dw, db\n",
        "\n",
        "# Backward propagation for Group 2\n",
        "def backward_propagation_group2(X, Y, A, w, lambda_reg=0.01):\n",
        "    m = X.shape[1]\n",
        "    dZ = (A - Y) * A * (1 - A)\n",
        "    dw = (1 / m) * np.dot(X, dZ.T) + (lambda_reg / m) * w  # L2 Regularization\n",
        "    db = (1 / m) * np.sum(dZ)\n",
        "    return dw, db\n"
      ],
      "metadata": {
        "id": "SndwZL2uQYEg"
      },
      "execution_count": null,
      "outputs": []
    },
    {
      "cell_type": "markdown",
      "source": [
        "** Step 8: Optimize Model with Early Stopping **"
      ],
      "metadata": {
        "id": "vIsUX55mgzUv"
      }
    },
    {
      "cell_type": "code",
      "source": [
        "# Step 8: Optimize Model with Early Stopping\n",
        "\n",
        "# Optimization for Group 1\n",
        "def optimize_group1(w, b, X, Y, num_iterations=2000, learning_rate=0.005):\n",
        "    losses = []  # Reset loss list\n",
        "\n",
        "    for i in range(num_iterations):\n",
        "        A = forward_propagation_group1(w, b, X)\n",
        "        loss = compute_loss(Y, A)\n",
        "        dw, db = backward_propagation_group1(X, Y, A, w)\n",
        "\n",
        "        w -= learning_rate * dw\n",
        "        b -= learning_rate * db\n",
        "\n",
        "        # Store loss every 100 iterations\n",
        "        if i % 100 == 0:\n",
        "            losses.append(loss)  # Append loss\n",
        "            print(f\"Iteration {i} | Loss: {loss:.5f}\")  # Debugging print\n",
        "\n",
        "    return w, b, losses\n",
        "\n",
        "# Optimization for Group 2\n",
        "def optimize_group2(w, b, X, Y, num_iterations=2000, learning_rate=0.005):\n",
        "    losses = []  # Reset loss list\n",
        "\n",
        "    for i in range(num_iterations):\n",
        "        A = forward_propagation_group2(w, b, X)\n",
        "        loss = compute_loss(Y, A)\n",
        "        dw, db = backward_propagation_group2(X, Y, A, w)\n",
        "\n",
        "        w -= learning_rate * dw\n",
        "        b -= learning_rate * db\n",
        "\n",
        "        # Store loss every 100 iterations\n",
        "        if i % 100 == 0:\n",
        "            losses.append(loss)  # Append loss\n",
        "            print(f\"Iteration {i} | Loss: {loss:.5f}\")  # Debugging print\n",
        "\n",
        "    return w, b, losses\n"
      ],
      "metadata": {
        "id": "FJXWGMQ6QgY6"
      },
      "execution_count": null,
      "outputs": []
    },
    {
      "cell_type": "markdown",
      "source": [
        "** Step 9: Train and Evaluate Both Groups**"
      ],
      "metadata": {
        "id": "pXFustqyg4AD"
      }
    },
    {
      "cell_type": "code",
      "source": [
        "# Step 9: Train and Evaluate Both Groups\n",
        "\n",
        "# Initialize and train Group 1\n",
        "w1, b1 = initialize_parameters(X_train.shape[0])\n",
        "w1, b1, losses_group1 = optimize_group1(w1, b1, X_train, Y_train)\n",
        "\n",
        "# Initialize and train Group 2\n",
        "w2, b2 = initialize_parameters(X_train.shape[0])\n",
        "w2, b2, losses_group2 = optimize_group1(w2, b2, X_train, Y_train)\n",
        "\n",
        "# Predictions\n",
        "Y_pred_train_g1 = (forward_propagation_group1(w1, b1, X_train) > 0.5).astype(int)\n",
        "Y_pred_test_g1 = (forward_propagation_group1(w1, b1, X_test) > 0.5).astype(int)\n",
        "\n",
        "Y_pred_train_g2 = (forward_propagation_group2(w2, b2, X_train) > 0.5).astype(int)\n",
        "Y_pred_test_g2 = (forward_propagation_group2(w2, b2, X_test) > 0.5).astype(int)\n",
        "\n",
        "# Compute Metrics\n",
        "train_acc_g1 = accuracy_score(Y_train.flatten(), Y_pred_train_g1.flatten()) * 100\n",
        "test_acc_g1 = accuracy_score(Y_test.flatten(), Y_pred_test_g1.flatten()) * 100\n",
        "\n",
        "train_acc_g2 = accuracy_score(Y_train.flatten(), Y_pred_train_g2.flatten()) * 100\n",
        "test_acc_g2 = accuracy_score(Y_test.flatten(), Y_pred_test_g2.flatten()) * 100\n",
        "\n",
        "print(f\"Group 1 - Train Accuracy: {train_acc_g1:.2f}%, Test Accuracy: {test_acc_g1:.2f}%\")\n",
        "print(f\"Group 2 - Train Accuracy: {train_acc_g2:.2f}%, Test Accuracy: {test_acc_g2:.2f}%\")\n"
      ],
      "metadata": {
        "colab": {
          "base_uri": "https://localhost:8080/"
        },
        "id": "5Q0UGl6UQ5R5",
        "outputId": "b662d799-a4ab-49be-b43e-d23694911c65"
      },
      "execution_count": null,
      "outputs": [
        {
          "output_type": "stream",
          "name": "stdout",
          "text": [
            "Iteration 0 | Loss: 0.12500\n",
            "Iteration 100 | Loss: 0.12008\n",
            "Iteration 200 | Loss: 0.06530\n",
            "Iteration 300 | Loss: 0.06460\n",
            "Iteration 400 | Loss: 0.05840\n",
            "Iteration 500 | Loss: 0.05203\n",
            "Iteration 600 | Loss: 0.04596\n",
            "Iteration 700 | Loss: 0.04017\n",
            "Iteration 800 | Loss: 0.03463\n",
            "Iteration 900 | Loss: 0.02948\n",
            "Iteration 1000 | Loss: 0.02572\n",
            "Iteration 1100 | Loss: 0.02367\n",
            "Iteration 1200 | Loss: 0.02198\n",
            "Iteration 1300 | Loss: 0.02047\n",
            "Iteration 1400 | Loss: 0.01910\n",
            "Iteration 1500 | Loss: 0.01788\n",
            "Iteration 1600 | Loss: 0.01678\n",
            "Iteration 1700 | Loss: 0.01580\n",
            "Iteration 1800 | Loss: 0.01490\n",
            "Iteration 1900 | Loss: 0.01409\n",
            "Iteration 0 | Loss: 0.12500\n",
            "Iteration 100 | Loss: 0.12008\n",
            "Iteration 200 | Loss: 0.06530\n",
            "Iteration 300 | Loss: 0.06460\n",
            "Iteration 400 | Loss: 0.05840\n",
            "Iteration 500 | Loss: 0.05203\n",
            "Iteration 600 | Loss: 0.04596\n",
            "Iteration 700 | Loss: 0.04017\n",
            "Iteration 800 | Loss: 0.03463\n",
            "Iteration 900 | Loss: 0.02948\n",
            "Iteration 1000 | Loss: 0.02572\n",
            "Iteration 1100 | Loss: 0.02367\n",
            "Iteration 1200 | Loss: 0.02198\n",
            "Iteration 1300 | Loss: 0.02047\n",
            "Iteration 1400 | Loss: 0.01910\n",
            "Iteration 1500 | Loss: 0.01788\n",
            "Iteration 1600 | Loss: 0.01678\n",
            "Iteration 1700 | Loss: 0.01580\n",
            "Iteration 1800 | Loss: 0.01490\n",
            "Iteration 1900 | Loss: 0.01409\n",
            "Group 1 - Train Accuracy: 99.52%, Test Accuracy: 68.00%\n",
            "Group 2 - Train Accuracy: 99.52%, Test Accuracy: 68.00%\n"
          ]
        }
      ]
    },
    {
      "cell_type": "code",
      "source": [
        "# Print the stored Loss Values to verify they are updated\n",
        "\n",
        "print(f\"Loss values for Group 1: {losses_group1}\")\n",
        "print(f\"Loss values for Group 2: {losses_group2}\")\n"
      ],
      "metadata": {
        "colab": {
          "base_uri": "https://localhost:8080/"
        },
        "id": "DGlXjCH7S2dz",
        "outputId": "1731a4d8-0e17-4522-9706-a260380242cc"
      },
      "execution_count": null,
      "outputs": [
        {
          "output_type": "stream",
          "name": "stdout",
          "text": [
            "Loss values for Group 1: [0.125, 0.12008301671591766, 0.06530016722616772, 0.0646010617039882, 0.058399408949959423, 0.05203246740666929, 0.0459582686167881, 0.04017335754707033, 0.034631874497684456, 0.029476353492531433, 0.025722020170595192, 0.023670531242605843, 0.021981978345353814, 0.020465595792796703, 0.019104069002952834, 0.01788188152011376, 0.01678377667876139, 0.015795191402564572, 0.014902777555723444, 0.014094669988890174]\n",
            "Loss values for Group 2: [0.125, 0.12008301671591766, 0.06530016722616772, 0.0646010617039882, 0.058399408949959423, 0.05203246740666929, 0.0459582686167881, 0.04017335754707033, 0.034631874497684456, 0.029476353492531433, 0.025722020170595192, 0.023670531242605843, 0.021981978345353814, 0.020465595792796703, 0.019104069002952834, 0.01788188152011376, 0.01678377667876139, 0.015795191402564572, 0.014902777555723444, 0.014094669988890174]\n"
          ]
        }
      ]
    },
    {
      "cell_type": "markdown",
      "source": [
        "** # Step 10: Plot Learning Curves**"
      ],
      "metadata": {
        "id": "GM93R-51g8UB"
      }
    },
    {
      "cell_type": "code",
      "source": [
        "# Step 10: Plot Learning Curves\n",
        "\n",
        "import matplotlib.pyplot as plt\n",
        "\n",
        "plt.figure(figsize=(12, 5))\n",
        "\n",
        "# Plot for Group 1\n",
        "plt.subplot(1, 2, 1)\n",
        "plt.plot(range(0, len(losses_group1) * 100, 100), losses_group1, marker='o', color='b', label=\"Group 1 Loss\")\n",
        "plt.xlabel(\"Iterations (per 100)\")\n",
        "plt.ylabel(\"Loss\")\n",
        "plt.title(\"Group 1: Training Loss Over Iterations\")\n",
        "plt.legend()\n",
        "plt.grid()\n",
        "\n",
        "# Plot for Group 2\n",
        "plt.subplot(1, 2, 2)\n",
        "plt.plot(range(0, len(losses_group2) * 100, 100), losses_group2, marker='o', color='r', label=\"Group 2 Loss\")\n",
        "plt.xlabel(\"Iterations (per 100)\")\n",
        "plt.ylabel(\"Loss\")\n",
        "plt.title(\"Group 2: Training Loss Over Iterations\")\n",
        "plt.legend()\n",
        "plt.grid()\n",
        "\n",
        "plt.show()\n"
      ],
      "metadata": {
        "colab": {
          "base_uri": "https://localhost:8080/",
          "height": 487
        },
        "id": "bdM8x1moUSLo",
        "outputId": "ff50225c-dee5-478f-db61-8f851c7d1156"
      },
      "execution_count": null,
      "outputs": [
        {
          "output_type": "display_data",
          "data": {
            "text/plain": [
              "<Figure size 1200x500 with 2 Axes>"
            ],
            "image/png": "[encoded data removed]"
          },
          "metadata": {}
        }
      ]
    },
    {
      "cell_type": "markdown",
      "source": [
        "**Observation**\n",
        "*   Both models successfully learn, as the loss decreases over time.\n",
        "*   Group 2 (red) has a steeper initial decline, which might indicate faster\n",
        "  convergence.\n",
        "*   Both models stabilize, meaning they are reaching a good point of optimization."
      ],
      "metadata": {
        "id": "Qh4ptK9dVsNE"
      }
    },
    {
      "cell_type": "markdown",
      "source": [
        "** 1. Compare Training and Test Accuracies**"
      ],
      "metadata": {
        "id": "y4I6R_VLWRXH"
      }
    },
    {
      "cell_type": "code",
      "source": [
        "# Comparing Training Accuracy Vs Testing Accuracy\n",
        "\n",
        "print(f\"Group 1 - Train Accuracy: {train_acc_g1:.2f}%, Test Accuracy: {test_acc_g1:.2f}%\")\n",
        "print(f\"Group 2 - Train Accuracy: {train_acc_g2:.2f}%, Test Accuracy: {test_acc_g2:.2f}%\")\n"
      ],
      "metadata": {
        "colab": {
          "base_uri": "https://localhost:8080/"
        },
        "id": "7mR_9aZRWWnW",
        "outputId": "b05957a2-4258-4221-a0c7-ddc8894fcc63"
      },
      "execution_count": null,
      "outputs": [
        {
          "output_type": "stream",
          "name": "stdout",
          "text": [
            "Group 1 - Train Accuracy: 99.52%, Test Accuracy: 68.00%\n",
            "Group 2 - Train Accuracy: 99.52%, Test Accuracy: 68.00%\n"
          ]
        }
      ]
    },
    {
      "cell_type": "markdown",
      "source": [
        "** 2. Computimg Precision, Recall, F1-score**"
      ],
      "metadata": {
        "id": "TOgL3GDzWoys"
      }
    },
    {
      "cell_type": "code",
      "source": [
        "# Computimg Precision, Recall, F1-score\n",
        "from sklearn.metrics import precision_score, recall_score, f1_score\n",
        "\n",
        "precision_g1 = precision_score(Y_test.T, Y_pred_test_g1.T)\n",
        "recall_g1 = recall_score(Y_test.T, Y_pred_test_g1.T)\n",
        "f1_g1 = f1_score(Y_test.T, Y_pred_test_g1.T)\n",
        "\n",
        "precision_g2 = precision_score(Y_test.T, Y_pred_test_g2.T)\n",
        "recall_g2 = recall_score(Y_test.T, Y_pred_test_g2.T)\n",
        "f1_g2 = f1_score(Y_test.T, Y_pred_test_g2.T)\n",
        "\n",
        "print(f\"Group 1 - Precision: {precision_g1:.2f}, Recall: {recall_g1:.2f}, F1-score: {f1_g1:.2f}\")\n",
        "print(f\"Group 2 - Precision: {precision_g2:.2f}, Recall: {recall_g2:.2f}, F1-score: {f1_g2:.2f}\")\n",
        "\n",
        "\n"
      ],
      "metadata": {
        "colab": {
          "base_uri": "https://localhost:8080/"
        },
        "id": "BZWfdRIWXBs0",
        "outputId": "8a7674b2-7b91-43a8-f5d0-95583e7a4dbe"
      },
      "execution_count": null,
      "outputs": [
        {
          "output_type": "stream",
          "name": "stdout",
          "text": [
            "Group 1 - Precision: 0.79, Recall: 0.70, F1-score: 0.74\n",
            "Group 2 - Precision: 0.79, Recall: 0.70, F1-score: 0.74\n"
          ]
        }
      ]
    }
  ]
}